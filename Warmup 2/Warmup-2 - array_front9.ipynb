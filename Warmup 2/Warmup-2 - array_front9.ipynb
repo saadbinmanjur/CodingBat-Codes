{
 "cells": [
  {
   "cell_type": "code",
   "execution_count": null,
   "metadata": {},
   "outputs": [],
   "source": [
    "def array_front9(nums):\n",
    "  end = len(nums)\n",
    "  if end > 4:\n",
    "    end = 4\n",
    "  \n",
    "  for i in range(end):\n",
    "    if nums[i] == 9:\n",
    "      return True\n",
    "  return False"
   ]
  },
  {
   "cell_type": "code",
   "execution_count": null,
   "metadata": {},
   "outputs": [],
   "source": []
  }
 ],
 "metadata": {
  "kernelspec": {
   "display_name": "Python 3",
   "language": "python",
   "name": "python3"
  }
 },
 "nbformat": 4,
 "nbformat_minor": 2
}
