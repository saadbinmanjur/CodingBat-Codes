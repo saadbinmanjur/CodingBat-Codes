{
 "cells": [
  {
   "cell_type": "code",
   "execution_count": 1,
   "metadata": {},
   "outputs": [],
   "source": [
    "def last2(str):\n",
    "  if len(str) < 2:\n",
    "    return 0\n",
    "  \n",
    "  last2 = str[len(str)-2:]\n",
    "  count = 0\n",
    "  \n",
    "  for i in range(len(str)-2):\n",
    "    sub = str[i:i+2]\n",
    "    if sub == last2:\n",
    "      count = count + 1\n",
    "\n",
    "  return count"
   ]
  },
  {
   "cell_type": "code",
   "execution_count": null,
   "metadata": {},
   "outputs": [],
   "source": []
  }
 ],
 "metadata": {
  "kernelspec": {
   "display_name": "Python 3",
   "language": "python",
   "name": "python3"
  },
  "language_info": {
   "codemirror_mode": {
    "name": "ipython",
    "version": 3
   },
   "file_extension": ".py",
   "mimetype": "text/x-python",
   "name": "python",
   "nbconvert_exporter": "python",
   "pygments_lexer": "ipython3",
   "version": "3.7.3"
  }
 },
 "nbformat": 4,
 "nbformat_minor": 2
}
