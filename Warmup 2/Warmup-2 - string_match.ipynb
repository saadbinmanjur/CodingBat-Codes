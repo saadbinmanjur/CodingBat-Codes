{
 "cells": [
  {
   "cell_type": "code",
   "execution_count": 1,
   "metadata": {},
   "outputs": [],
   "source": [
    "def string_match(a, b):\n",
    "  shorter = min(len(a), len(b))\n",
    "  count = 0\n",
    "  \n",
    "  for i in range(shorter-1):\n",
    "    a_sub = a[i:i+2]\n",
    "    b_sub = b[i:i+2]\n",
    "    if a_sub == b_sub:\n",
    "      count = count + 1\n",
    "  return count"
   ]
  }
 ],
 "metadata": {
  "kernelspec": {
   "display_name": "Python 3",
   "language": "python",
   "name": "python3"
  },
  "language_info": {
   "codemirror_mode": {
    "name": "ipython",
    "version": 3
   },
   "file_extension": ".py",
   "mimetype": "text/x-python",
   "name": "python",
   "nbconvert_exporter": "python",
   "pygments_lexer": "ipython3",
   "version": "3.7.3"
  }
 },
 "nbformat": 4,
 "nbformat_minor": 2
}
